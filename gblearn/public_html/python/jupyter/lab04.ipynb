{
 "cells": [
  {
   "cell_type": "code",
   "execution_count": null,
   "id": "64cd749a-cf80-4784-99ea-8249d3c724a6",
   "metadata": {},
   "outputs": [],
   "source": [
    "# Defines the Monster's Powers\n",
    "dict_monster_powers ={\n",
    "    \"Fire Magic\": 2,\n",
    "    \"Freeze Time\": 4,\n",
    "    \"Super Hearing\": 6,\n",
    "}\n",
    "# Empty belt\n",
    "belt = []\n",
    "\n",
    "# Monster rolls for magic power\n",
    "input(\"The monster rolls for magic power\")\n",
    "monster_power = random.choice(list(dict_monster_powers.keys()))\n",
    "power_strength = dict_monster_powers[monster_power]\n",
    "print(f\"The monster has a {monster_power} power with strength of {power_strength}\")\n",
    "\n",
    "# Increase monster's combat strength with power but max at 6\n",
    "m_combat_strength = min(6, m_combat_strength + power_strength)\n",
    "print(f\"Monster's updated combat strength is {m_combat_strength}\")\n",
    "\n",
    "# Player finds a loot bag\n",
    "print(\"You found a loot bag!\")\n",
    "for _ in range(2):\n",
    "    input(\"Roll for a loot item (Press Enter)\")\n",
    "    if loot_options:\n",
    "        loot = random.choice(loot_options)\n",
    "        loot_options.remove(loot)\n",
    "        belt.append(loot)\n",
    "        print(f\"You found: {loot}\")\n",
    "    else:\n",
    "        print(\"No more loot available\")\n",
    "\n",
    "# Organizes belt\n",
    "print(\"Organizing the loot belt...\")\n",
    "belt.sort()\n",
    "print(\"Your belt now contains:\", belt)\n",
    "\n",
    "# Use first loot item\n",
    "if belt:\n",
    "    print(\"A monster appears in the distance! You use the first item from your belt.\")\n",
    "    used_item = belt.pop(0)\n",
    "    print(f\"You used: {used_item}\")\n",
    "    if used_item in good_loot_options:\n",
    "        health_points = min(6, health_points + 2)\n",
    "        print(\"It was helpful! Your health increased by 2.\")\n",
    "    elif used_item in bad_loot_options:\n",
    "        health_points = max(0, health_points - 2)\n",
    "        print(\"It was harmful! Your health decreased by 2.\")\n",
    "    else:\n",
    "        print(\"The item had no effect.\")\n",
    "    print(f\"Your updated health points: {health_points}\")"
   ]
  }
 ],
 "metadata": {
  "kernelspec": {
   "display_name": "Python 3 (ipykernel)",
   "language": "python",
   "name": "python3"
  },
  "language_info": {
   "codemirror_mode": {
    "name": "ipython",
    "version": 3
   },
   "file_extension": ".py",
   "mimetype": "text/x-python",
   "name": "python",
   "nbconvert_exporter": "python",
   "pygments_lexer": "ipython3",
   "version": "3.9.21"
  }
 },
 "nbformat": 4,
 "nbformat_minor": 5
}
